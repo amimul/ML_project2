{
 "cells": [
  {
   "cell_type": "code",
   "execution_count": 1,
   "metadata": {},
   "outputs": [],
   "source": [
    "%matplotlib inline\n",
    "import matplotlib.image as mpimg\n",
    "import numpy as np\n",
    "import matplotlib.pyplot as plt\n",
    "\n",
    "from helpers import *\n",
    "from sklearn import linear_model\n",
    "from sklearn.metrics import confusion_matrix\n",
    "\n",
    "%load_ext autoreload\n",
    "%autoreload 2"
   ]
  },
  {
   "cell_type": "code",
   "execution_count": 3,
   "metadata": {},
   "outputs": [],
   "source": [
    "try: \n",
    "    import cv2\n",
    "except: \n",
    "    import pip\n",
    "    pip.main(['install', 'opencv-python'])\n",
    "    import cv2 "
   ]
  },
  {
   "cell_type": "code",
   "execution_count": 5,
   "metadata": {
    "scrolled": true
   },
   "outputs": [
    {
     "name": "stdout",
     "output_type": "stream",
     "text": [
      "Loading 100 satellite + ground truth images\n"
     ]
    }
   ],
   "source": [
    "# Load training images\n",
    "root_dir = \"training/\"\n",
    "image_dir = root_dir + \"images/\"\n",
    "gt_dir = root_dir + \"groundtruth/\"\n",
    "\n",
    "files = os.listdir(image_dir)\n",
    "\n",
    "n = len(files)\n",
    "imgs = [load_image(image_dir + files[i]) for i in range(n)]\n",
    "gt_imgs = [load_image(gt_dir + files[i]) for i in range(n)]\n",
    "\n",
    "print(\"Loading \" + str(n) + \" satellite + ground truth images\")"
   ]
  },
  {
   "cell_type": "code",
   "execution_count": 9,
   "metadata": {
    "scrolled": true
   },
   "outputs": [],
   "source": [
    "# \n",
    "# Preparation training data\n",
    "# \n",
    "\n",
    "# Extract patches from input images\n",
    "patch_size = 16 # each patch is 16*16 pixels\n",
    "\n",
    "img_patches = [img_crop(imgs[i], patch_size, patch_size, step = 4) for i in range(n)]\n",
    "gt_patches = [img_crop(gt_imgs[i], patch_size, patch_size, step = 4) for i in range(n)]\n",
    "\n",
    "# Linearize list of patches\n",
    "img_patches = np.asarray([img_patches[i][j] for i in range(len(img_patches)) for j in range(len(img_patches[i]))])\n",
    "gt_patches =  np.asarray([gt_patches[i][j] for i in range(len(gt_patches)) for j in range(len(gt_patches[i]))])\n",
    "\n",
    "# Extract features\n",
    "X = np.asarray([ extract_features(img_patches[i]) for i in range(len(img_patches))])\n",
    "\n",
    "# Features augmentation \n",
    "X = features_augmentation(X)\n",
    "\n",
    "# Standardize data\n",
    "X -= np.mean(X)\n",
    "X /= np.std(X, axis = 0)\n",
    "\n",
    "print('Computed ' + str(X.shape[1]) + ' features for ' + str(X.shape[0]) + ' patches')"
   ]
  },
  {
   "cell_type": "code",
   "execution_count": 12,
   "metadata": {},
   "outputs": [
    {
     "name": "stdout",
     "output_type": "stream",
     "text": [
      "Model fitted!\n"
     ]
    }
   ],
   "source": [
    "# \n",
    "# Run logistic regression \n",
    "# \n",
    "y = np.asarray([value_to_class(np.mean(gt_patches[i])) for i in range(len(gt_patches))])\n",
    "\n",
    "C_opt = 1e-5\n",
    "\n",
    "logreg = linear_model.LogisticRegression(C = C_opt, class_weight=\"balanced\")\n",
    "logreg.fit(X, y)\n",
    "print(\"Model fitted!\")"
   ]
  },
  {
   "cell_type": "code",
   "execution_count": 17,
   "metadata": {},
   "outputs": [
    {
     "name": "stdout",
     "output_type": "stream",
     "text": [
      "Ready to predict!\n",
      "Prediction done!\n",
      "Postprocessing done!\n"
     ]
    }
   ],
   "source": [
    "# \n",
    "# Preparation testing data\n",
    "# \n",
    "root_testdir = \"test_set_images\"\n",
    "test_names = os.listdir(root_testdir)\n",
    "\n",
    "prefixes = ('.')\n",
    "for dir_ in test_names[:]:\n",
    "    if dir_.startswith(prefixes):\n",
    "        test_names.remove(dir_)\n",
    "\n",
    "# Get permutation to get test data in correct order\n",
    "num_test = len(test_names)\n",
    "order = [int(test_names[i].split(\"_\")[1]) for i in range(num_test)]\n",
    "p = np.argsort(order)\n",
    "\n",
    "# Load data and reorder them\n",
    "imgs_test = [load_image(os.path.join(root_testdir, test_names[i], test_names[i]) + \".png\") for i in range(num_test)]\n",
    "imgs_test = [imgs_test[i] for i in p]\n",
    "\n",
    "# Crop images in patch and Linearize list of patches\n",
    "img_patches_test = [img_crop(imgs_test[i], patch_size, patch_size, step = 16) for i in range(num_test)]\n",
    "X_eval = np.asarray([img_patches_test[i][j] for i in range(len(img_patches_test)) for j in range(len(img_patches_test[i]))]) \n",
    "\n",
    "# Extract, augment & standardize features\n",
    "X_eval = np.asarray([ extract_features(X_eval[i]) for i in range(len(X_eval))])\n",
    "X_eval = features_augmentation(X_eval)\n",
    "X_eval -= np.mean(X_eval)\n",
    "X_eval /= np.std(X_eval, axis = 0)\n",
    "print(\"Ready to predict!\")\n",
    "\n",
    "# \n",
    "# Prediction testing data\n",
    "# \n",
    "Z_eval = logreg.predict(X_eval)\n",
    "print(\"Prediction done!\")\n",
    "\n",
    "\n",
    "# \n",
    "# Post processing on eval dataset\n",
    "# \n",
    "\n",
    "# Reshape prediction as matrix for each image\n",
    "z_reshaped = []\n",
    "\n",
    "num_patch_total = len(Z_eval)\n",
    "num_patch_by_img = num_patch_total // num_test\n",
    "\n",
    "for i in range(0, num_patch_total, num_patch_by_img):\n",
    "    z_crt = Z_eval[i : i + num_patch_by_img]\n",
    "    z_reshaped.append(np.reshape(z_crt, [608 // 16, 608 // 16]))\n",
    "\n",
    "# Run post process \n",
    "for ind, label_img in enumerate(z_reshaped):\n",
    "    label_img = postprocess(label_img)\n",
    "    z_reshaped[ind] = np.reshape(label_img, [z_crt.shape[0]])\n",
    "\n",
    "# Convert list as array\n",
    "Z_eval_pp = np.concatenate( z_reshaped , axis = 0 )\n",
    "print(\"Postprocessing done!\")"
   ]
  },
  {
   "cell_type": "code",
   "execution_count": 18,
   "metadata": {},
   "outputs": [],
   "source": [
    "# \n",
    "# Save prediction\n",
    "# \n",
    "create_submission(Z_eval_pp, \"submission_LogReg_pp.csv\")"
   ]
  }
 ],
 "metadata": {
  "kernelspec": {
   "display_name": "Python [default]",
   "language": "python",
   "name": "python3"
  },
  "language_info": {
   "codemirror_mode": {
    "name": "ipython",
    "version": 3
   },
   "file_extension": ".py",
   "mimetype": "text/x-python",
   "name": "python",
   "nbconvert_exporter": "python",
   "pygments_lexer": "ipython3",
   "version": "3.6.1"
  }
 },
 "nbformat": 4,
 "nbformat_minor": 1
}
